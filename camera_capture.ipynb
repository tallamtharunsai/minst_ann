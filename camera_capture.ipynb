{
 "cells": [
  {
   "cell_type": "code",
   "execution_count": 1,
   "metadata": {},
   "outputs": [],
   "source": [
    "import numpy as np\n",
    "import cv2"
   ]
  },
  {
   "cell_type": "code",
   "execution_count": 3,
   "metadata": {},
   "outputs": [
    {
     "name": "stdout",
     "output_type": "stream",
     "text": [
      "Success: Grabbed the camera\n",
      "Saving capture_0.png!\n",
      "Quitting...\n"
     ]
    }
   ],
   "source": [
    "# Initialize GUI window to grab keystrokes when it has focus.\n",
    "cv2.namedWindow(\"Capture\")\n",
    "# Initialize Capture Counter\n",
    "cap_cnt = 0\n",
    "# Initialize Video Web Camera for capture. The default camera is 0 (usually built-in) \n",
    "# The second camera would be 1 and so on\n",
    "webcam = cv2.VideoCapture(0)\n",
    "# Check if Camera initialized correctly\n",
    "success = webcam.isOpened()\n",
    "if success == False:\n",
    "    print('Error: Camera could not be opened')\n",
    "else:\n",
    "    print('Success: Grabbed the camera')\n",
    "    \n",
    "\n",
    "while True:\n",
    "    # Read each frame in video stream\n",
    "    ret, frame = webcam.read()\n",
    "    # Display each frame in video stream\n",
    "    cv2.imshow(\"Capture\", frame)\n",
    "    if not ret:\n",
    "        break\n",
    "# Monitor keystrokes\n",
    "    k = cv2.waitKey(1)\n",
    "\n",
    "    if k & 0xFF == ord('q'):\n",
    "        # q key pressed so quit\n",
    "        print(\"Quitting...\")\n",
    "        break\n",
    "    elif k & 0xFF == ord('c'):\n",
    "        # c key pressed so capture frame to image file\n",
    "        cap_name = \"capture_{}.png\".format(cap_cnt)\n",
    "        cv2.imwrite(cap_name, frame)\n",
    "        print(\"Saving {}!\".format(cap_name))\n",
    "        # Increment Capture Counter for next frame to capture\n",
    "        cap_cnt += 1"
   ]
  },
  {
   "cell_type": "code",
   "execution_count": null,
   "metadata": {},
   "outputs": [],
   "source": []
  }
 ],
 "metadata": {
  "kernelspec": {
   "display_name": "Python 3",
   "language": "python",
   "name": "python3"
  },
  "language_info": {
   "codemirror_mode": {
    "name": "ipython",
    "version": 3
   },
   "file_extension": ".py",
   "mimetype": "text/x-python",
   "name": "python",
   "nbconvert_exporter": "python",
   "pygments_lexer": "ipython3",
   "version": "3.6.5"
  }
 },
 "nbformat": 4,
 "nbformat_minor": 2
}
